{
 "cells": [
  {
   "cell_type": "code",
   "execution_count": 45,
   "id": "3ced7a4a",
   "metadata": {},
   "outputs": [
    {
     "name": "stdout",
     "output_type": "stream",
     "text": [
      "5 1 2 5 4\n",
      "3\n"
     ]
    }
   ],
   "source": [
    "a, s = list(map(int, input().split())), 0\n",
    "\n",
    "for i in range(a[0]+1):\n",
    "    s += i\n",
    "n = sum(a[1:])\n",
    "print(s - n)\n"
   ]
  },
  {
   "cell_type": "code",
   "execution_count": 44,
   "id": "2de0f745",
   "metadata": {},
   "outputs": [
    {
     "name": "stdout",
     "output_type": "stream",
     "text": [
      "6 AB0TAEL0ANANAB0EVO0SANAN\n",
      "EAT0BANANA0LOVE0BANANAS0\n"
     ]
    }
   ],
   "source": [
    "n = list(map(str, input().split()))\n",
    "s = n[1]\n",
    "n = int(n[0])\n",
    "l = len(s)\n",
    "k = l//n\n",
    "list_1 = []\n",
    "z = 0\n",
    "\n",
    "for i in range(k):\n",
    "    list_1.append(s[z:(z+n)])\n",
    "    list_1[i] = (list_1[i][::-1])\n",
    "    z += n\n",
    "print(''.join(list_1))\n"
   ]
  },
  {
   "cell_type": "code",
   "execution_count": 55,
   "id": "4cb2e691",
   "metadata": {},
   "outputs": [
    {
     "name": "stdout",
     "output_type": "stream",
     "text": [
      "ABA\n",
      "[1, 1] []\n"
     ]
    }
   ],
   "source": [
    "s = input()\n",
    "self_mir = ['A', 'H', 'I', 'M', 'O', 'T', 'U', 'V', 'W', 'X', 'Y', '1', '8']\n",
    "mir = ['E', 'J', 'S', 'Z', '3', 'L', '2', '5']\n",
    "\n",
    "reg_pal = [1 for i in s if i in self_mir]\n",
    "mir_str = [1 for i in s if i in mir]\n",
    "\n",
    "print(reg_pal, mir_str)"
   ]
  },
  {
   "cell_type": "code",
   "execution_count": null,
   "id": "f8ae2236",
   "metadata": {},
   "outputs": [],
   "source": []
  }
 ],
 "metadata": {
  "kernelspec": {
   "display_name": "Python 3 (ipykernel)",
   "language": "python",
   "name": "python3"
  },
  "language_info": {
   "codemirror_mode": {
    "name": "ipython",
    "version": 3
   },
   "file_extension": ".py",
   "mimetype": "text/x-python",
   "name": "python",
   "nbconvert_exporter": "python",
   "pygments_lexer": "ipython3",
   "version": "3.11.4"
  }
 },
 "nbformat": 4,
 "nbformat_minor": 5
}
